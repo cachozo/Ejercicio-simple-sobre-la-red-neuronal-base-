{
  "nbformat": 4,
  "nbformat_minor": 0,
  "metadata": {
    "colab": {
      "provenance": []
    },
    "kernelspec": {
      "name": "python3",
      "display_name": "Python 3"
    },
    "language_info": {
      "name": "python"
    }
  },
  "cells": [
    {
      "cell_type": "code",
      "execution_count": 94,
      "metadata": {
        "id": "JrPHxEpVLgpH"
      },
      "outputs": [],
      "source": [
        "# Importar\n",
        "import numpy as np\n",
        "import pandas as pd\n",
        "from sklearn.metrics import classification_report\n",
        "from tensorflow.keras.models import Sequential\n",
        "from sklearn.compose import make_column_selector, make_column_transformer\n",
        "from tensorflow.keras.layers import Dense\n",
        "import matplotlib.pyplot as plt\n",
        "from sklearn.model_selection import train_test_split\n",
        "from sklearn.preprocessing import StandardScaler, OneHotEncoder"
      ]
    },
    {
      "cell_type": "code",
      "source": [
        "#conectar google drive\n",
        "from google.colab import drive\n",
        "drive.mount('/content/drive')"
      ],
      "metadata": {
        "colab": {
          "base_uri": "https://localhost:8080/"
        },
        "id": "TRBoP6sOL30N",
        "outputId": "2f762773-e5ca-47aa-8095-372076dc7dc7"
      },
      "execution_count": 95,
      "outputs": [
        {
          "output_type": "stream",
          "name": "stdout",
          "text": [
            "Drive already mounted at /content/drive; to attempt to forcibly remount, call drive.mount(\"/content/drive\", force_remount=True).\n"
          ]
        }
      ]
    },
    {
      "cell_type": "code",
      "source": [
        "url = 'https://docs.google.com/spreadsheets/d/e/2PACX-1vQPIHj2zduhCmXT44ZMBjUJ6d0CaFmEIheo4D0k-4jJGD-po7W-mebgUCYxxzVfpi3qLI_vKwOp4U3F/pub?output=csv'\n",
        "df = pd.read_csv(url)\n",
        "df.head()"
      ],
      "metadata": {
        "colab": {
          "base_uri": "https://localhost:8080/",
          "height": 206
        },
        "id": "DknTGH9FMAwU",
        "outputId": "5ea9eb6b-267b-44f2-d57f-969762ee25f1"
      },
      "execution_count": 96,
      "outputs": [
        {
          "output_type": "execute_result",
          "data": {
            "text/plain": [
              "   Age Sex ChestPainType  RestingBP  Cholesterol  FastingBS RestingECG  MaxHR  \\\n",
              "0   40   M           ATA        140          289          0     Normal    172   \n",
              "1   49   F           NAP        160          180          0     Normal    156   \n",
              "2   37   M           ATA        130          283          0         ST     98   \n",
              "3   48   F           ASY        138          214          0     Normal    108   \n",
              "4   54   M           NAP        150          195          0     Normal    122   \n",
              "\n",
              "  ExerciseAngina  Oldpeak ST_Slope  HeartDisease  \n",
              "0              N      0.0       Up             0  \n",
              "1              N      1.0     Flat             1  \n",
              "2              N      0.0       Up             0  \n",
              "3              Y      1.5     Flat             1  \n",
              "4              N      0.0       Up             0  "
            ],
            "text/html": [
              "\n",
              "  <div id=\"df-97fde879-d2ed-4ae4-9e2b-d1946a34e6de\">\n",
              "    <div class=\"colab-df-container\">\n",
              "      <div>\n",
              "<style scoped>\n",
              "    .dataframe tbody tr th:only-of-type {\n",
              "        vertical-align: middle;\n",
              "    }\n",
              "\n",
              "    .dataframe tbody tr th {\n",
              "        vertical-align: top;\n",
              "    }\n",
              "\n",
              "    .dataframe thead th {\n",
              "        text-align: right;\n",
              "    }\n",
              "</style>\n",
              "<table border=\"1\" class=\"dataframe\">\n",
              "  <thead>\n",
              "    <tr style=\"text-align: right;\">\n",
              "      <th></th>\n",
              "      <th>Age</th>\n",
              "      <th>Sex</th>\n",
              "      <th>ChestPainType</th>\n",
              "      <th>RestingBP</th>\n",
              "      <th>Cholesterol</th>\n",
              "      <th>FastingBS</th>\n",
              "      <th>RestingECG</th>\n",
              "      <th>MaxHR</th>\n",
              "      <th>ExerciseAngina</th>\n",
              "      <th>Oldpeak</th>\n",
              "      <th>ST_Slope</th>\n",
              "      <th>HeartDisease</th>\n",
              "    </tr>\n",
              "  </thead>\n",
              "  <tbody>\n",
              "    <tr>\n",
              "      <th>0</th>\n",
              "      <td>40</td>\n",
              "      <td>M</td>\n",
              "      <td>ATA</td>\n",
              "      <td>140</td>\n",
              "      <td>289</td>\n",
              "      <td>0</td>\n",
              "      <td>Normal</td>\n",
              "      <td>172</td>\n",
              "      <td>N</td>\n",
              "      <td>0.0</td>\n",
              "      <td>Up</td>\n",
              "      <td>0</td>\n",
              "    </tr>\n",
              "    <tr>\n",
              "      <th>1</th>\n",
              "      <td>49</td>\n",
              "      <td>F</td>\n",
              "      <td>NAP</td>\n",
              "      <td>160</td>\n",
              "      <td>180</td>\n",
              "      <td>0</td>\n",
              "      <td>Normal</td>\n",
              "      <td>156</td>\n",
              "      <td>N</td>\n",
              "      <td>1.0</td>\n",
              "      <td>Flat</td>\n",
              "      <td>1</td>\n",
              "    </tr>\n",
              "    <tr>\n",
              "      <th>2</th>\n",
              "      <td>37</td>\n",
              "      <td>M</td>\n",
              "      <td>ATA</td>\n",
              "      <td>130</td>\n",
              "      <td>283</td>\n",
              "      <td>0</td>\n",
              "      <td>ST</td>\n",
              "      <td>98</td>\n",
              "      <td>N</td>\n",
              "      <td>0.0</td>\n",
              "      <td>Up</td>\n",
              "      <td>0</td>\n",
              "    </tr>\n",
              "    <tr>\n",
              "      <th>3</th>\n",
              "      <td>48</td>\n",
              "      <td>F</td>\n",
              "      <td>ASY</td>\n",
              "      <td>138</td>\n",
              "      <td>214</td>\n",
              "      <td>0</td>\n",
              "      <td>Normal</td>\n",
              "      <td>108</td>\n",
              "      <td>Y</td>\n",
              "      <td>1.5</td>\n",
              "      <td>Flat</td>\n",
              "      <td>1</td>\n",
              "    </tr>\n",
              "    <tr>\n",
              "      <th>4</th>\n",
              "      <td>54</td>\n",
              "      <td>M</td>\n",
              "      <td>NAP</td>\n",
              "      <td>150</td>\n",
              "      <td>195</td>\n",
              "      <td>0</td>\n",
              "      <td>Normal</td>\n",
              "      <td>122</td>\n",
              "      <td>N</td>\n",
              "      <td>0.0</td>\n",
              "      <td>Up</td>\n",
              "      <td>0</td>\n",
              "    </tr>\n",
              "  </tbody>\n",
              "</table>\n",
              "</div>\n",
              "      <button class=\"colab-df-convert\" onclick=\"convertToInteractive('df-97fde879-d2ed-4ae4-9e2b-d1946a34e6de')\"\n",
              "              title=\"Convert this dataframe to an interactive table.\"\n",
              "              style=\"display:none;\">\n",
              "        \n",
              "  <svg xmlns=\"http://www.w3.org/2000/svg\" height=\"24px\"viewBox=\"0 0 24 24\"\n",
              "       width=\"24px\">\n",
              "    <path d=\"M0 0h24v24H0V0z\" fill=\"none\"/>\n",
              "    <path d=\"M18.56 5.44l.94 2.06.94-2.06 2.06-.94-2.06-.94-.94-2.06-.94 2.06-2.06.94zm-11 1L8.5 8.5l.94-2.06 2.06-.94-2.06-.94L8.5 2.5l-.94 2.06-2.06.94zm10 10l.94 2.06.94-2.06 2.06-.94-2.06-.94-.94-2.06-.94 2.06-2.06.94z\"/><path d=\"M17.41 7.96l-1.37-1.37c-.4-.4-.92-.59-1.43-.59-.52 0-1.04.2-1.43.59L10.3 9.45l-7.72 7.72c-.78.78-.78 2.05 0 2.83L4 21.41c.39.39.9.59 1.41.59.51 0 1.02-.2 1.41-.59l7.78-7.78 2.81-2.81c.8-.78.8-2.07 0-2.86zM5.41 20L4 18.59l7.72-7.72 1.47 1.35L5.41 20z\"/>\n",
              "  </svg>\n",
              "      </button>\n",
              "      \n",
              "  <style>\n",
              "    .colab-df-container {\n",
              "      display:flex;\n",
              "      flex-wrap:wrap;\n",
              "      gap: 12px;\n",
              "    }\n",
              "\n",
              "    .colab-df-convert {\n",
              "      background-color: #E8F0FE;\n",
              "      border: none;\n",
              "      border-radius: 50%;\n",
              "      cursor: pointer;\n",
              "      display: none;\n",
              "      fill: #1967D2;\n",
              "      height: 32px;\n",
              "      padding: 0 0 0 0;\n",
              "      width: 32px;\n",
              "    }\n",
              "\n",
              "    .colab-df-convert:hover {\n",
              "      background-color: #E2EBFA;\n",
              "      box-shadow: 0px 1px 2px rgba(60, 64, 67, 0.3), 0px 1px 3px 1px rgba(60, 64, 67, 0.15);\n",
              "      fill: #174EA6;\n",
              "    }\n",
              "\n",
              "    [theme=dark] .colab-df-convert {\n",
              "      background-color: #3B4455;\n",
              "      fill: #D2E3FC;\n",
              "    }\n",
              "\n",
              "    [theme=dark] .colab-df-convert:hover {\n",
              "      background-color: #434B5C;\n",
              "      box-shadow: 0px 1px 3px 1px rgba(0, 0, 0, 0.15);\n",
              "      filter: drop-shadow(0px 1px 2px rgba(0, 0, 0, 0.3));\n",
              "      fill: #FFFFFF;\n",
              "    }\n",
              "  </style>\n",
              "\n",
              "      <script>\n",
              "        const buttonEl =\n",
              "          document.querySelector('#df-97fde879-d2ed-4ae4-9e2b-d1946a34e6de button.colab-df-convert');\n",
              "        buttonEl.style.display =\n",
              "          google.colab.kernel.accessAllowed ? 'block' : 'none';\n",
              "\n",
              "        async function convertToInteractive(key) {\n",
              "          const element = document.querySelector('#df-97fde879-d2ed-4ae4-9e2b-d1946a34e6de');\n",
              "          const dataTable =\n",
              "            await google.colab.kernel.invokeFunction('convertToInteractive',\n",
              "                                                     [key], {});\n",
              "          if (!dataTable) return;\n",
              "\n",
              "          const docLinkHtml = 'Like what you see? Visit the ' +\n",
              "            '<a target=\"_blank\" href=https://colab.research.google.com/notebooks/data_table.ipynb>data table notebook</a>'\n",
              "            + ' to learn more about interactive tables.';\n",
              "          element.innerHTML = '';\n",
              "          dataTable['output_type'] = 'display_data';\n",
              "          await google.colab.output.renderOutput(dataTable, element);\n",
              "          const docLink = document.createElement('div');\n",
              "          docLink.innerHTML = docLinkHtml;\n",
              "          element.appendChild(docLink);\n",
              "        }\n",
              "      </script>\n",
              "    </div>\n",
              "  </div>\n",
              "  "
            ]
          },
          "metadata": {},
          "execution_count": 96
        }
      ]
    },
    {
      "cell_type": "code",
      "source": [
        "#Explorar y limpiar los datos si es necesario\n",
        "print('Duplicates:', df.duplicated().sum())\n",
        "print('Missing Values:', df.isna().sum().sum())"
      ],
      "metadata": {
        "colab": {
          "base_uri": "https://localhost:8080/"
        },
        "id": "HpMy99iBMGuT",
        "outputId": "90de84d0-f4a8-44ad-f298-297f1b795203"
      },
      "execution_count": 97,
      "outputs": [
        {
          "output_type": "stream",
          "name": "stdout",
          "text": [
            "Duplicates: 0\n",
            "Missing Values: 0\n"
          ]
        }
      ]
    },
    {
      "cell_type": "code",
      "source": [
        "# Explorar y limpiar los datos si es necesario, buscar inconsistencias.\n",
        "cat_cols = df.select_dtypes(include = 'object')\n",
        "for col in cat_cols:\n",
        "  print(col)\n",
        "  print(df[col].value_counts())"
      ],
      "metadata": {
        "colab": {
          "base_uri": "https://localhost:8080/"
        },
        "id": "bU1Yk-PAMPzc",
        "outputId": "be6f7314-f4c3-4384-b7cd-8640a9dc8620"
      },
      "execution_count": 98,
      "outputs": [
        {
          "output_type": "stream",
          "name": "stdout",
          "text": [
            "Sex\n",
            "M    725\n",
            "F    193\n",
            "Name: Sex, dtype: int64\n",
            "ChestPainType\n",
            "ASY    496\n",
            "NAP    203\n",
            "ATA    173\n",
            "TA      46\n",
            "Name: ChestPainType, dtype: int64\n",
            "RestingECG\n",
            "Normal    552\n",
            "LVH       188\n",
            "ST        178\n",
            "Name: RestingECG, dtype: int64\n",
            "ExerciseAngina\n",
            "N    547\n",
            "Y    371\n",
            "Name: ExerciseAngina, dtype: int64\n",
            "ST_Slope\n",
            "Flat    460\n",
            "Up      395\n",
            "Down     63\n",
            "Name: ST_Slope, dtype: int64\n"
          ]
        }
      ]
    },
    {
      "cell_type": "code",
      "source": [
        "#Comprobar\n",
        "df['HeartDisease'].mean()\n",
        "#se evidencia balance en la recolección."
      ],
      "metadata": {
        "colab": {
          "base_uri": "https://localhost:8080/"
        },
        "id": "4bAkKYihMXMS",
        "outputId": "768ea760-d638-4c21-d9c4-375119296be1"
      },
      "execution_count": 99,
      "outputs": [
        {
          "output_type": "execute_result",
          "data": {
            "text/plain": [
              "0.5533769063180828"
            ]
          },
          "metadata": {},
          "execution_count": 99
        }
      ]
    },
    {
      "cell_type": "code",
      "source": [
        "#Div caracteristicas y objetivo\n",
        "X = df.drop(columns = 'HeartDisease')\n",
        "y = df['HeartDisease']"
      ],
      "metadata": {
        "id": "mvRsd7HMMlM-"
      },
      "execution_count": 100,
      "outputs": []
    },
    {
      "cell_type": "code",
      "source": [
        "#Realizar una división train-test en tus datos\n",
        "X_train, X_test, y_train, y_test = train_test_split(X, y, random_state = 42)"
      ],
      "metadata": {
        "id": "s6NLKNXSMzWF"
      },
      "execution_count": 101,
      "outputs": []
    },
    {
      "cell_type": "code",
      "source": [
        "# Utilizar un transformador de columna para escalar las características numéricas y realizar una codificación one-hot a las características categóricas.\n",
        "cat_selector = make_column_selector(dtype_include = 'object')\n",
        "num_selector = make_column_selector(dtype_include = 'number')\n",
        "     \n",
        "#Utilizar un transformador de columna para escalar las características numéricas y realizar una codificación one-hot a las características categóricas.\n",
        "cat_tuple = (OneHotEncoder(sparse = False, handle_unknown = 'ignore'), cat_selector)\n",
        "num_tuple = (StandardScaler(), num_selector)\n",
        "    "
      ],
      "metadata": {
        "id": "GEXYccacNCtl"
      },
      "execution_count": 102,
      "outputs": []
    },
    {
      "cell_type": "code",
      "source": [
        "# Utilizar un transformador de columna para escalar las características numéricas y realizar una codificación one-hot a las características categóricas.\n",
        "col_transformer = make_column_transformer(cat_tuple, num_tuple, remainder = 'passthrough')\n",
        "     \n",
        "\n",
        "# Transformar datos.\n",
        "X_train = col_transformer.fit_transform(X_train)\n",
        "X_test = col_transformer.fit_transform(X_test)"
      ],
      "metadata": {
        "id": "0uln8bZjYBNi"
      },
      "execution_count": 103,
      "outputs": []
    },
    {
      "cell_type": "code",
      "source": [
        "# Incluir el número de características para cada muestra en tu capa de entrada\n",
        "input_nodes = X_train.shape[1]\n",
        "input_nodes\n",
        "# Definir tu modeloo secuencial de base\n",
        "modelo = Sequential()  \n",
        "# Añadir la Capa oculta\n",
        "modelo.add(Dense(10, \n",
        "                input_dim = input_nodes,\n",
        "                activation = 'relu'))\n",
        "\n",
        "# Añadir la Capa oculta\n",
        "modelo.add(Dense(10, activation = 'relu'))\n",
        "     \n",
        "# Añadir la Capa de salida\n",
        "modelo.add(Dense(1, activation = 'sigmoid'))\n",
        "\n",
        "# Compilar tu modeloo con la función de pérdida correcta y un optimizador (“adam” es una buena opción)\n",
        "modelo.compile(loss = 'bce', optimizer = 'adam')\n",
        "     \n",
        "\n",
        "history = modelo.fit(X_train, y_train,\n",
        "                    validation_data = (X_test, y_test), \n",
        "                    epochs = 10)"
      ],
      "metadata": {
        "colab": {
          "base_uri": "https://localhost:8080/"
        },
        "id": "DNVsh_v1NcRm",
        "outputId": "316eeb31-a9d8-401b-83c7-affc4e2015d4"
      },
      "execution_count": 104,
      "outputs": [
        {
          "output_type": "stream",
          "name": "stdout",
          "text": [
            "Epoch 1/10\n",
            "22/22 [==============================] - 1s 10ms/step - loss: 0.6296 - val_loss: 0.5843\n",
            "Epoch 2/10\n",
            "22/22 [==============================] - 0s 4ms/step - loss: 0.5876 - val_loss: 0.5475\n",
            "Epoch 3/10\n",
            "22/22 [==============================] - 0s 6ms/step - loss: 0.5528 - val_loss: 0.5129\n",
            "Epoch 4/10\n",
            "22/22 [==============================] - 0s 4ms/step - loss: 0.5207 - val_loss: 0.4806\n",
            "Epoch 5/10\n",
            "22/22 [==============================] - 0s 5ms/step - loss: 0.4888 - val_loss: 0.4507\n",
            "Epoch 6/10\n",
            "22/22 [==============================] - 0s 4ms/step - loss: 0.4575 - val_loss: 0.4245\n",
            "Epoch 7/10\n",
            "22/22 [==============================] - 0s 5ms/step - loss: 0.4294 - val_loss: 0.4018\n",
            "Epoch 8/10\n",
            "22/22 [==============================] - 0s 5ms/step - loss: 0.4056 - val_loss: 0.3848\n",
            "Epoch 9/10\n",
            "22/22 [==============================] - 0s 6ms/step - loss: 0.3891 - val_loss: 0.3763\n",
            "Epoch 10/10\n",
            "22/22 [==============================] - 0s 6ms/step - loss: 0.3765 - val_loss: 0.3657\n"
          ]
        }
      ]
    },
    {
      "cell_type": "code",
      "source": [
        "#Graficacion de la historia\n",
        "\n",
        "plt.plot(history.history['loss'], label = 'Train Loss')\n",
        "plt.plot(history.history['val_loss'], label = 'Test Loss')\n",
        "plt.legend()"
      ],
      "metadata": {
        "colab": {
          "base_uri": "https://localhost:8080/",
          "height": 282
        },
        "id": "cPH9_pPLQ7Mk",
        "outputId": "b9811c52-6f34-4cb1-800e-f3409023436c"
      },
      "execution_count": 105,
      "outputs": [
        {
          "output_type": "execute_result",
          "data": {
            "text/plain": [
              "<matplotlib.legend.Legend at 0x7fbed5a6f340>"
            ]
          },
          "metadata": {},
          "execution_count": 105
        },
        {
          "output_type": "display_data",
          "data": {
            "text/plain": [
              "<Figure size 432x288 with 1 Axes>"
            ],
            "image/png": "[encoded data removed]"
          },
          "metadata": {
            "needs_background": "light"
          }
        }
      ]
    },
    {
      "cell_type": "markdown",
      "source": [
        "###EVALUACIÓN DEL MODELO"
      ],
      "metadata": {
        "id": "uYS1tzTuRfUH"
      }
    },
    {
      "cell_type": "code",
      "source": [
        "train_preds = (modelo.predict(X_train) >= 0.5).astype(float)\n",
        "test_preds = (modelo.predict(X_test) >= 0.5).astype(float)\n",
        "print('-'*29 + ' Train Metrics ' + '-'*29)\n",
        "print(classification_report(train_preds, y_train))\n",
        "print('\\n' + '-'*29 + ' Test Metrics ' + '-'*29)\n",
        "print(classification_report(test_preds, y_test))"
      ],
      "metadata": {
        "colab": {
          "base_uri": "https://localhost:8080/"
        },
        "id": "qJBK-TqERj4K",
        "outputId": "b19d2ded-9fd1-4a06-eafe-6fd0d594c403"
      },
      "execution_count": 106,
      "outputs": [
        {
          "output_type": "stream",
          "name": "stdout",
          "text": [
            "22/22 [==============================] - 0s 2ms/step\n",
            "8/8 [==============================] - 0s 2ms/step\n",
            "----------------------------- Train Metrics -----------------------------\n",
            "              precision    recall  f1-score   support\n",
            "\n",
            "         0.0       0.83      0.83      0.83       311\n",
            "         1.0       0.86      0.86      0.86       377\n",
            "\n",
            "    accuracy                           0.85       688\n",
            "   macro avg       0.85      0.85      0.85       688\n",
            "weighted avg       0.85      0.85      0.85       688\n",
            "\n",
            "\n",
            "----------------------------- Test Metrics -----------------------------\n",
            "              precision    recall  f1-score   support\n",
            "\n",
            "         0.0       0.91      0.80      0.85       111\n",
            "         1.0       0.83      0.92      0.88       119\n",
            "\n",
            "    accuracy                           0.87       230\n",
            "   macro avg       0.87      0.86      0.86       230\n",
            "weighted avg       0.87      0.87      0.86       230\n",
            "\n"
          ]
        }
      ]
    },
    {
      "cell_type": "code",
      "source": [
        "#MEJORAMIENTO DEL MODELO\n",
        "\n",
        "# INSTANCIAR NUEVO MODELO\n",
        "modelo2 = Sequential()\n",
        "# Añadí nuevas capas ocultas\n",
        "modelo2.add(Dense(20, input_dim = input_nodes, activation = 'tanh'))\n",
        "modelo2.add(Dense(20, activation = 'tanh'))\n",
        "modelo2.add(Dense(20, activation = 'tanh'))\n",
        "modelo2.add(Dense(1, activation = 'sigmoid'))\n",
        "     "
      ],
      "metadata": {
        "id": "ZntlZRReS5jP"
      },
      "execution_count": 107,
      "outputs": []
    },
    {
      "cell_type": "code",
      "source": [
        "# Compilación del modelo\n",
        "modelo2.compile(loss = 'bce', optimizer = 'adam')\n",
        "# historial de entrenamiento del modelo\n",
        "history = modelo2.fit(X_train, y_train, \n",
        "                    validation_data = (X_test, y_test),\n",
        "                    epochs = 5)"
      ],
      "metadata": {
        "colab": {
          "base_uri": "https://localhost:8080/"
        },
        "id": "zu1Wg_FoTLXt",
        "outputId": "64a38480-7b09-4df6-e8f6-6d9e6c616e7b"
      },
      "execution_count": 108,
      "outputs": [
        {
          "output_type": "stream",
          "name": "stdout",
          "text": [
            "Epoch 1/5\n",
            "22/22 [==============================] - 1s 10ms/step - loss: 0.6763 - val_loss: 0.5671\n",
            "Epoch 2/5\n",
            "22/22 [==============================] - 0s 4ms/step - loss: 0.4725 - val_loss: 0.4389\n",
            "Epoch 3/5\n",
            "22/22 [==============================] - 0s 4ms/step - loss: 0.3975 - val_loss: 0.3958\n",
            "Epoch 4/5\n",
            "22/22 [==============================] - 0s 4ms/step - loss: 0.3687 - val_loss: 0.3737\n",
            "Epoch 5/5\n",
            "22/22 [==============================] - 0s 4ms/step - loss: 0.3546 - val_loss: 0.3654\n"
          ]
        }
      ]
    },
    {
      "cell_type": "code",
      "source": [
        "# Grafica hisotria\n",
        "plt.plot(history.history['loss'], label = 'Train Loss')\n",
        "plt.plot(history.history['val_loss'], label = 'Test Loss')\n",
        "plt.legend()"
      ],
      "metadata": {
        "colab": {
          "base_uri": "https://localhost:8080/",
          "height": 282
        },
        "id": "PRjKMGtUUQ4c",
        "outputId": "d5f42b98-fce5-45c1-d1fe-23641577223e"
      },
      "execution_count": 109,
      "outputs": [
        {
          "output_type": "execute_result",
          "data": {
            "text/plain": [
              "<matplotlib.legend.Legend at 0x7fbed66e2e80>"
            ]
          },
          "metadata": {},
          "execution_count": 109
        },
        {
          "output_type": "display_data",
          "data": {
            "text/plain": [
              "<Figure size 432x288 with 1 Axes>"
            ],
            "image/png": "[encoded data removed]"
          },
          "metadata": {
            "needs_background": "light"
          }
        }
      ]
    },
    {
      "cell_type": "code",
      "source": [
        "#evaluación del modelo\n",
        "train_preds = (modelo2.predict(X_train) >= 0.5).astype(float)\n",
        "test_preds = (modelo2.predict(X_test) >= 0.5).astype(float)\n",
        "#train\n",
        "print(classification_report(train_preds, y_train))\n",
        "#test\n",
        "print(classification_report(test_preds, y_test))\n",
        "     "
      ],
      "metadata": {
        "colab": {
          "base_uri": "https://localhost:8080/"
        },
        "id": "6TCRDC2OUwsA",
        "outputId": "cbd79b85-5d1b-42a7-da21-b30ec5417e51"
      },
      "execution_count": 110,
      "outputs": [
        {
          "output_type": "stream",
          "name": "stdout",
          "text": [
            "22/22 [==============================] - 0s 2ms/step\n",
            "8/8 [==============================] - 0s 2ms/step\n",
            "              precision    recall  f1-score   support\n",
            "\n",
            "         0.0       0.82      0.87      0.84       297\n",
            "         1.0       0.89      0.86      0.88       391\n",
            "\n",
            "    accuracy                           0.86       688\n",
            "   macro avg       0.86      0.86      0.86       688\n",
            "weighted avg       0.86      0.86      0.86       688\n",
            "\n",
            "              precision    recall  f1-score   support\n",
            "\n",
            "         0.0       0.86      0.82      0.84       102\n",
            "         1.0       0.86      0.89      0.88       128\n",
            "\n",
            "    accuracy                           0.86       230\n",
            "   macro avg       0.86      0.86      0.86       230\n",
            "weighted avg       0.86      0.86      0.86       230\n",
            "\n"
          ]
        }
      ]
    },
    {
      "cell_type": "code",
      "source": [
        "# Instanciar el modelo\n",
        "modelo3 = Sequential()\n",
        "     \n",
        "# Añadir capas\n",
        "modelo3.add(Dense(30, input_dim = input_nodes, activation = 'linear'))\n",
        "modelo3.add(Dense(30, activation = 'linear'))\n",
        "modelo3.add(Dense(30, activation = 'linear'))\n",
        "modelo3.add(Dense(30, activation = 'linear'))\n",
        "modelo3.add(Dense(1, activation = 'sigmoid'))\n",
        "# Comilar modelo\n",
        "modelo3.compile(loss = 'bce', optimizer = 'adam')\n",
        "\n",
        "# entrenar\n",
        "history = modelo3.fit(X_train, y_train,\n",
        "           validation_data = (X_test, y_test),\n",
        "           epochs = 10)\n",
        "     "
      ],
      "metadata": {
        "colab": {
          "base_uri": "https://localhost:8080/"
        },
        "id": "7PfJ3cCSV0JD",
        "outputId": "52715a2c-3361-480c-89cd-0ddf86ed901c"
      },
      "execution_count": 111,
      "outputs": [
        {
          "output_type": "stream",
          "name": "stdout",
          "text": [
            "Epoch 1/10\n",
            "22/22 [==============================] - 1s 15ms/step - loss: 0.5214 - val_loss: 0.4250\n",
            "Epoch 2/10\n",
            "22/22 [==============================] - 0s 6ms/step - loss: 0.3955 - val_loss: 0.3708\n",
            "Epoch 3/10\n",
            "22/22 [==============================] - 0s 6ms/step - loss: 0.3684 - val_loss: 0.3659\n",
            "Epoch 4/10\n",
            "22/22 [==============================] - 0s 6ms/step - loss: 0.3481 - val_loss: 0.3429\n",
            "Epoch 5/10\n",
            "22/22 [==============================] - 0s 6ms/step - loss: 0.3404 - val_loss: 0.3454\n",
            "Epoch 6/10\n",
            "22/22 [==============================] - 0s 6ms/step - loss: 0.3410 - val_loss: 0.3448\n",
            "Epoch 7/10\n",
            "22/22 [==============================] - 0s 6ms/step - loss: 0.3341 - val_loss: 0.3359\n",
            "Epoch 8/10\n",
            "22/22 [==============================] - 0s 7ms/step - loss: 0.3339 - val_loss: 0.3291\n",
            "Epoch 9/10\n",
            "22/22 [==============================] - 0s 6ms/step - loss: 0.3330 - val_loss: 0.3528\n",
            "Epoch 10/10\n",
            "22/22 [==============================] - 0s 6ms/step - loss: 0.3348 - val_loss: 0.3288\n"
          ]
        }
      ]
    },
    {
      "cell_type": "code",
      "source": [
        "\n",
        "# Graficar\n",
        "plt.plot(history.history['loss'], label = 'Train Loss')\n",
        "plt.plot(history.history['val_loss'], label = 'Test Loss')\n",
        "plt.legend()\n",
        "     "
      ],
      "metadata": {
        "colab": {
          "base_uri": "https://localhost:8080/",
          "height": 282
        },
        "id": "gNHEPs64V2TY",
        "outputId": "c0569e1b-6c63-46ea-9ffe-a811a142e5ab"
      },
      "execution_count": 112,
      "outputs": [
        {
          "output_type": "execute_result",
          "data": {
            "text/plain": [
              "<matplotlib.legend.Legend at 0x7fbecaf329a0>"
            ]
          },
          "metadata": {},
          "execution_count": 112
        },
        {
          "output_type": "display_data",
          "data": {
            "text/plain": [
              "<Figure size 432x288 with 1 Axes>"
            ],
            "image/png": "[encoded data removed]"
          },
          "metadata": {
            "needs_background": "light"
          }
        }
      ]
    },
    {
      "cell_type": "code",
      "source": [
        "# Evaluación\n",
        "train_preds = (modelo3.predict(X_train) >= 0.5).astype(float)\n",
        "test_preds = (modelo3.predict(X_test) >= 0.5).astype(float)\n",
        "#train\n",
        "print(classification_report(train_preds, y_train))\n",
        "#test\n",
        "print(classification_report(test_preds, y_test))"
      ],
      "metadata": {
        "colab": {
          "base_uri": "https://localhost:8080/"
        },
        "id": "UIWP5cZkV4ha",
        "outputId": "3166d633-e2e5-41f5-cd87-0a2a049aaa63"
      },
      "execution_count": 113,
      "outputs": [
        {
          "output_type": "stream",
          "name": "stdout",
          "text": [
            "22/22 [==============================] - 0s 2ms/step\n",
            "8/8 [==============================] - 0s 4ms/step\n",
            "              precision    recall  f1-score   support\n",
            "\n",
            "         0.0       0.83      0.89      0.86       290\n",
            "         1.0       0.91      0.86      0.89       398\n",
            "\n",
            "    accuracy                           0.88       688\n",
            "   macro avg       0.87      0.88      0.87       688\n",
            "weighted avg       0.88      0.88      0.88       688\n",
            "\n",
            "              precision    recall  f1-score   support\n",
            "\n",
            "         0.0       0.87      0.82      0.84       104\n",
            "         1.0       0.86      0.90      0.88       126\n",
            "\n",
            "    accuracy                           0.86       230\n",
            "   macro avg       0.86      0.86      0.86       230\n",
            "weighted avg       0.86      0.86      0.86       230\n",
            "\n"
          ]
        }
      ]
    }
  ]
}